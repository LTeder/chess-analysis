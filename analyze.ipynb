{
 "cells": [
  {
   "cell_type": "markdown",
   "id": "d54d412e",
   "metadata": {},
   "source": [
    "## Setup"
   ]
  },
  {
   "cell_type": "code",
   "execution_count": 33,
   "id": "c1270f1f-2eb1-4343-b97c-6a88f3c8d12a",
   "metadata": {},
   "outputs": [],
   "source": [
    "import numpy as np\n",
    "import pandas as pd\n",
    "import matplotlib.pyplot as plt\n",
    "import chess, chess.pgn, chess.svg"
   ]
  },
  {
   "cell_type": "code",
   "execution_count": null,
   "id": "5860bbaa-e055-432a-9ce6-aefe5f95fd5b",
   "metadata": {},
   "outputs": [],
   "source": [
    "pgn_fn = \"lichess_2025-03-07.pgn\"\n",
    "games = []\n",
    "with open(pgn_fn) as f:\n",
    "    while True:\n",
    "        game = chess.pgn.read_game(f)\n",
    "        if not game:\n",
    "            break\n",
    "        else:\n",
    "            games.append(game)\n",
    "len(games)"
   ]
  },
  {
   "cell_type": "code",
   "execution_count": null,
   "id": "711c788b-bebf-4f76-b315-9df9b579c2b7",
   "metadata": {},
   "outputs": [],
   "source": [
    "g = games[0]\n",
    "dict(g.headers)"
   ]
  },
  {
   "cell_type": "markdown",
   "id": "7248304d",
   "metadata": {},
   "source": [
    "## Time"
   ]
  },
  {
   "cell_type": "code",
   "execution_count": null,
   "id": "eabee7dc-db85-427d-a85b-2220fde1eb50",
   "metadata": {},
   "outputs": [],
   "source": [
    "# Extract date and time information from games\n",
    "game_times = []\n",
    "for game in games:\n",
    "    date_str = game.headers.get(\"UTCDate\", \"\")\n",
    "    time_str = game.headers.get(\"UTCTime\", \"\")\n",
    "    datetime_str = f\"{date_str.replace('.', '-')} {time_str}\"\n",
    "    game_datetime = pd.to_datetime(datetime_str)\n",
    "    game_times.append(game_datetime)\n",
    "\n",
    "# Create DataFrame with timestamps\n",
    "df = pd.DataFrame({'timestamp': game_times})\n",
    "\n",
    "# Add columns for analysis\n",
    "df['hour'] = df['timestamp'].dt.hour\n",
    "df['day'] = df['timestamp'].dt.day\n",
    "df['weekday'] = df['timestamp'].dt.weekday\n",
    "df['weekday_name'] = df['timestamp'].dt.day_name()\n",
    "\n",
    "# Plot distribution of games by hour of day\n",
    "# plt.figure(figsize=(12, 6))\n",
    "# df['hour'].value_counts().sort_index().plot(kind='bar')\n",
    "# plt.title('Games Played by Hour of Day')\n",
    "# plt.xlabel('Hour (UTC)')\n",
    "# plt.ylabel('Number of Games')\n",
    "# plt.xticks(rotation=0)\n",
    "# plt.grid(axis='y', alpha=0.3)\n",
    "# plt.show()\n",
    "\n",
    "# Plot games over time\n",
    "plt.figure(figsize=(14, 6))\n",
    "time_series = pd.Series(1, index=df['timestamp'])\n",
    "hourly_counts = time_series.resample('h').count()\n",
    "hourly_counts.plot()\n",
    "plt.title('Games Played Over Time')\n",
    "plt.xlabel('Date/Time')\n",
    "plt.ylabel('Number of Games')\n",
    "plt.grid()\n",
    "plt.show()\n",
    "\n",
    "# Heatmap of games by weekday and hour\n",
    "weekday_hour_counts = pd.crosstab(df['weekday_name'], df['hour'])\n",
    "plt.figure(figsize=(14, 8))\n",
    "plt.pcolormesh(weekday_hour_counts.columns, range(len(weekday_hour_counts.index)), \n",
    "               weekday_hour_counts.values, cmap='viridis')\n",
    "plt.colorbar(label='Number of Games')\n",
    "plt.title('Games by Weekday and Hour')\n",
    "plt.xlabel('Hour of Day (UTC)')\n",
    "plt.ylabel('Day of Week')\n",
    "plt.yticks(range(len(weekday_hour_counts.index)), weekday_hour_counts.index)\n",
    "plt.grid(False)\n",
    "plt.show()"
   ]
  },
  {
   "cell_type": "markdown",
   "id": "d2c4d56b",
   "metadata": {},
   "source": [
    "## Capturing"
   ]
  },
  {
   "cell_type": "code",
   "execution_count": null,
   "id": "2c456a32",
   "metadata": {},
   "outputs": [],
   "source": [
    "# Extract piece captures from the moves\n",
    "username = \"\"\n",
    "pieces = ['P', 'B', 'N', 'Q', 'K', 'R']\n",
    "captured_pieces = {piece : 0 for piece in pieces}\n",
    "lost_pieces = {piece : 0 for piece in pieces}\n",
    "\n",
    "for game in games:\n",
    "    # Get if user is white or black\n",
    "    is_white = game.headers['White'].lower() == username.lower()\n",
    "    board = chess.Board()\n",
    "    for move in game.mainline_moves():\n",
    "        if board.is_capture(move):\n",
    "            # Get the piece that was captured\n",
    "            to_square = move.to_square\n",
    "            captured = board.piece_at(to_square)\n",
    "            if captured:\n",
    "                piece_name = captured.symbol().upper()\n",
    "                # If user made the capture\n",
    "                if (is_white and board.turn == chess.BLACK) or \\\n",
    "                   (not is_white and board.turn == chess.WHITE):\n",
    "                    captured_pieces[piece_name] += 1\n",
    "                # If user lost the piece\n",
    "                else:\n",
    "                    lost_pieces[piece_name] += 1\n",
    "\n",
    "\n",
    "plt.figure(figsize=(12, 6))\n",
    "captured_counts = [captured_pieces[piece] for piece in pieces]\n",
    "lost_counts = [lost_pieces[piece] for piece in pieces]\n",
    "x = np.arange(len(captured_counts))\n",
    "width = 0.35\n",
    "plt.bar(x - width/2, captured_counts, width, label='Captured by User')\n",
    "plt.bar(x + width/2, lost_counts, width, label='Captured by Opponent')\n",
    "plt.title('Piece Capture Analysis')\n",
    "plt.xlabel('Piece')\n",
    "plt.ylabel('Count')\n",
    "plt.xticks(x, pieces, rotation=0)\n",
    "# plt.yscale('log')\n",
    "plt.grid(axis='y')\n",
    "plt.legend()\n",
    "plt.show()\n"
   ]
  },
  {
   "cell_type": "code",
   "execution_count": null,
   "id": "6b4fd726",
   "metadata": {},
   "outputs": [],
   "source": []
  }
 ],
 "metadata": {
  "kernelspec": {
   "display_name": "Python 3 (ipykernel)",
   "language": "python",
   "name": "python3"
  },
  "language_info": {
   "codemirror_mode": {
    "name": "ipython",
    "version": 3
   },
   "file_extension": ".py",
   "mimetype": "text/x-python",
   "name": "python",
   "nbconvert_exporter": "python",
   "pygments_lexer": "ipython3",
   "version": "3.13.2"
  }
 },
 "nbformat": 4,
 "nbformat_minor": 5
}
