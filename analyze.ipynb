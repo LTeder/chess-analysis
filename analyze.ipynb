{
 "cells": [
  {
   "cell_type": "code",
   "execution_count": null,
   "id": "c1270f1f-2eb1-4343-b97c-6a88f3c8d12a",
   "metadata": {},
   "outputs": [],
   "source": [
    "import pandas as pd\n",
    "import matplotlib.pyplot as plt\n",
    "import chess, chess.pgn"
   ]
  },
  {
   "cell_type": "code",
   "execution_count": null,
   "id": "5860bbaa-e055-432a-9ce6-aefe5f95fd5b",
   "metadata": {},
   "outputs": [],
   "source": [
    "pgn_fn = \"lichess_2025-03-07.pgn\"\n",
    "games = []\n",
    "with open(pgn_fn) as f:\n",
    "    while True:\n",
    "        game = chess.pgn.read_game(f)\n",
    "        if not game:\n",
    "            break\n",
    "        else:\n",
    "            games.append(game)\n",
    "len(games)"
   ]
  },
  {
   "cell_type": "code",
   "execution_count": null,
   "id": "711c788b-bebf-4f76-b315-9df9b579c2b7",
   "metadata": {},
   "outputs": [],
   "source": []
  }
 ],
 "metadata": {
  "kernelspec": {
   "display_name": "Python 3 (ipykernel)",
   "language": "python",
   "name": "python3"
  },
  "language_info": {
   "codemirror_mode": {
    "name": "ipython",
    "version": 3
   },
   "file_extension": ".py",
   "mimetype": "text/x-python",
   "name": "python",
   "nbconvert_exporter": "python",
   "pygments_lexer": "ipython3",
   "version": "3.13.2"
  }
 },
 "nbformat": 4,
 "nbformat_minor": 5
}
